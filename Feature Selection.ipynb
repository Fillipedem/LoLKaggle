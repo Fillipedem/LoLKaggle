{
 "cells": [
  {
   "cell_type": "code",
   "execution_count": 1,
   "metadata": {},
   "outputs": [],
   "source": [
    "import numpy as np\n",
    "import pandas as pd\n",
    "\n",
    "# Feature Selection\n",
    "from sklearn.ensemble import ExtraTreesClassifier\n",
    "from sklearn.datasets import load_iris\n",
    "from sklearn.feature_selection import SelectFromModel\n",
    "\n",
    "# sklearn\n",
    "from sklearn.model_selection import train_test_split\n",
    "from sklearn.neural_network import MLPClassifier\n",
    "from sklearn.svm import SVC\n",
    "\n",
    "# metrics\n",
    "from sklearn.metrics import accuracy_score, auc\n",
    "from sklearn.model_selection import cross_val_score\n",
    "\n",
    "# Para plotar a curva Roc\n",
    "import scikitplot as skplt\n",
    "import matplotlib.pyplot as plt\n"
   ]
  },
  {
   "cell_type": "code",
   "execution_count": 2,
   "metadata": {},
   "outputs": [],
   "source": [
    "X = pd.read_csv(\"./data/preprocessamento/X_normalized.csv\", index_col=0)\n",
    "y = pd.read_csv(\"./data/preprocessamento/y.csv\", header=None, index_col=0)"
   ]
  },
  {
   "cell_type": "code",
   "execution_count": 3,
   "metadata": {
    "scrolled": true
   },
   "outputs": [
    {
     "data": {
      "text/plain": [
       "Index(['count_Teleport_t1', 'count_Cleanse_t1', 'count_Ghost_t1',\n",
       "       'count_Barrier_t1', 'count_Exhaust_t1', 'count_Ignite_t1',\n",
       "       'count_Smite_t1', 'count_Heal_t1', 'count_Flash_t1',\n",
       "       'count_Teleport_t2', 'count_Cleanse_t2', 'count_Ghost_t2',\n",
       "       'count_Barrier_t2', 'count_Exhaust_t2', 'count_Ignite_t2',\n",
       "       'count_Smite_t2', 'count_Heal_t2', 'count_Flash_t2', 'count_Mage_t1',\n",
       "       'count_Fighter_t1', 'count_Tank_t1', 'count_Assassin_t1',\n",
       "       'count_Marksman_t1', 'count_Support_t1', 'count_Mage_t2',\n",
       "       'count_Fighter_t2', 'count_Tank_t2', 'count_Assassin_t2',\n",
       "       'count_Marksman_t2', 'count_Support_t2', 'firstBlood_0', 'firstBlood_1',\n",
       "       'firstBlood_2', 'firstTower_0', 'firstTower_1', 'firstTower_2',\n",
       "       'firstDragon_0', 'firstDragon_1', 'firstDragon_2', 'firstRiftHerald_0',\n",
       "       'firstRiftHerald_1', 'firstRiftHerald_2'],\n",
       "      dtype='object')"
      ]
     },
     "execution_count": 3,
     "metadata": {},
     "output_type": "execute_result"
    }
   ],
   "source": [
    "X.columns"
   ]
  },
  {
   "cell_type": "code",
   "execution_count": 5,
   "metadata": {
    "scrolled": false
   },
   "outputs": [
    {
     "name": "stderr",
     "output_type": "stream",
     "text": [
      "/home/demenezes/.local/lib/python3.6/site-packages/ipykernel_launcher.py:2: DataConversionWarning: A column-vector y was passed when a 1d array was expected. Please change the shape of y to (n_samples,), for example using ravel().\n",
      "  \n"
     ]
    },
    {
     "name": "stdout",
     "output_type": "stream",
     "text": [
      "count_Cleanse_t1\n",
      "count_Smite_t1\n",
      "count_Cleanse_t2\n",
      "count_Smite_t2\n",
      "firstBlood_0\n",
      "firstBlood_1\n",
      "firstBlood_2\n",
      "firstTower_0\n",
      "firstDragon_0\n",
      "firstRiftHerald_0\n"
     ]
    }
   ],
   "source": [
    "clf = ExtraTreesClassifier(n_estimators=50)\n",
    "clf = clf.fit(X, y)\n",
    "\n",
    "for idx, val in enumerate(clf.feature_importances_):\n",
    "    if val < 0.01:\n",
    "        print(X.columns[idx])"
   ]
  },
  {
   "cell_type": "code",
   "execution_count": 6,
   "metadata": {},
   "outputs": [],
   "source": [
    "X = X.drop(columns=['count_Cleanse_t1', 'count_Smite_t1','count_Cleanse_t2', \n",
    "           'count_Smite_t2', 'firstBlood_0', 'firstBlood_1', \n",
    "           'firstBlood_2', 'firstTower_0', 'firstDragon_0', \n",
    "           'firstRiftHerald_0'])"
   ]
  },
  {
   "cell_type": "code",
   "execution_count": 7,
   "metadata": {},
   "outputs": [],
   "source": [
    "# Divindo treino/teste\n",
    "X_train, X_test, y_train, y_test = train_test_split(\n",
    "    X, y, test_size=0.33, random_state=42)"
   ]
  },
  {
   "cell_type": "code",
   "execution_count": null,
   "metadata": {},
   "outputs": [],
   "source": []
  }
 ],
 "metadata": {
  "kernelspec": {
   "display_name": "Python 3",
   "language": "python",
   "name": "python3"
  },
  "language_info": {
   "codemirror_mode": {
    "name": "ipython",
    "version": 3
   },
   "file_extension": ".py",
   "mimetype": "text/x-python",
   "name": "python",
   "nbconvert_exporter": "python",
   "pygments_lexer": "ipython3",
   "version": "3.6.7"
  }
 },
 "nbformat": 4,
 "nbformat_minor": 2
}
