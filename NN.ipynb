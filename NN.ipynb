{
 "cells": [
  {
   "cell_type": "markdown",
   "metadata": {},
   "source": [
    "### NeuralNetworks"
   ]
  },
  {
   "cell_type": "code",
   "execution_count": 18,
   "metadata": {},
   "outputs": [],
   "source": [
    "import numpy as np\n",
    "import pandas as pd\n",
    "\n",
    "# sklearn\n",
    "from sklearn.model_selection import train_test_split\n",
    "from sklearn.neural_network import MLPClassifier\n",
    "\n",
    "# metrics\n",
    "from sklearn.metrics import accuracy_score\n",
    "from sklearn.model_selection import cross_val_score"
   ]
  },
  {
   "cell_type": "markdown",
   "metadata": {},
   "source": [
    "### Lendo a base de dados"
   ]
  },
  {
   "cell_type": "code",
   "execution_count": 2,
   "metadata": {},
   "outputs": [],
   "source": [
    "X = pd.read_csv(\"./data/preprocessamento/X_normalized.csv\", index_col=0)\n",
    "y = pd.read_csv(\"./data/preprocessamento/y.csv\", header=None, index_col=0)"
   ]
  },
  {
   "cell_type": "code",
   "execution_count": 3,
   "metadata": {},
   "outputs": [],
   "source": [
    "# Divindo treino/teste\n",
    "X_train, X_test, y_train, y_test = train_test_split(\n",
    "    X, y, test_size=0.33, random_state=42)"
   ]
  },
  {
   "cell_type": "markdown",
   "metadata": {},
   "source": [
    "### Modelo"
   ]
  },
  {
   "cell_type": "code",
   "execution_count": 4,
   "metadata": {
    "scrolled": true
   },
   "outputs": [],
   "source": [
    "clf = MLPClassifier(hidden_layer_sizes=(64), max_iter=500, alpha=0.0001,\n",
    "                     solver='sgd', batch_size=64, random_state=42, verbose=10)"
   ]
  },
  {
   "cell_type": "markdown",
   "metadata": {},
   "source": [
    "### Treino"
   ]
  },
  {
   "cell_type": "code",
   "execution_count": 5,
   "metadata": {
    "scrolled": true
   },
   "outputs": [
    {
     "name": "stderr",
     "output_type": "stream",
     "text": [
      "/usr/local/lib/python3.6/dist-packages/sklearn/neural_network/multilayer_perceptron.py:916: DataConversionWarning: A column-vector y was passed when a 1d array was expected. Please change the shape of y to (n_samples, ), for example using ravel().\n",
      "  y = column_or_1d(y, warn=True)\n"
     ]
    },
    {
     "name": "stdout",
     "output_type": "stream",
     "text": [
      "Iteration 1, loss = 0.59978102\n",
      "Iteration 2, loss = 0.56506572\n",
      "Iteration 3, loss = 0.56280959\n",
      "Iteration 4, loss = 0.56213750\n",
      "Iteration 5, loss = 0.56164603\n",
      "Iteration 6, loss = 0.56114950\n",
      "Iteration 7, loss = 0.56096325\n",
      "Iteration 8, loss = 0.56052398\n",
      "Iteration 9, loss = 0.56027397\n",
      "Iteration 10, loss = 0.55992915\n",
      "Iteration 11, loss = 0.55976178\n",
      "Iteration 12, loss = 0.55954770\n",
      "Iteration 13, loss = 0.55936389\n",
      "Iteration 14, loss = 0.55920544\n",
      "Iteration 15, loss = 0.55906407\n",
      "Iteration 16, loss = 0.55894605\n",
      "Iteration 17, loss = 0.55869553\n",
      "Iteration 18, loss = 0.55859924\n",
      "Iteration 19, loss = 0.55847491\n",
      "Iteration 20, loss = 0.55836987\n",
      "Iteration 21, loss = 0.55827729\n",
      "Iteration 22, loss = 0.55817762\n",
      "Iteration 23, loss = 0.55800420\n",
      "Iteration 24, loss = 0.55797953\n",
      "Iteration 25, loss = 0.55789878\n",
      "Iteration 26, loss = 0.55782272\n",
      "Iteration 27, loss = 0.55773597\n",
      "Iteration 28, loss = 0.55772317\n",
      "Iteration 29, loss = 0.55749765\n",
      "Iteration 30, loss = 0.55747393\n",
      "Iteration 31, loss = 0.55753246\n",
      "Iteration 32, loss = 0.55740901\n",
      "Iteration 33, loss = 0.55731317\n",
      "Iteration 34, loss = 0.55719728\n",
      "Iteration 35, loss = 0.55718436\n",
      "Iteration 36, loss = 0.55705506\n",
      "Iteration 37, loss = 0.55708284\n",
      "Iteration 38, loss = 0.55698761\n",
      "Iteration 39, loss = 0.55692126\n",
      "Iteration 40, loss = 0.55687883\n",
      "Iteration 41, loss = 0.55679817\n",
      "Iteration 42, loss = 0.55689392\n",
      "Iteration 43, loss = 0.55680080\n",
      "Iteration 44, loss = 0.55672516\n",
      "Iteration 45, loss = 0.55671398\n",
      "Iteration 46, loss = 0.55667734\n",
      "Iteration 47, loss = 0.55656355\n",
      "Iteration 48, loss = 0.55664806\n",
      "Iteration 49, loss = 0.55667138\n",
      "Iteration 50, loss = 0.55648196\n",
      "Iteration 51, loss = 0.55656690\n",
      "Iteration 52, loss = 0.55641433\n",
      "Iteration 53, loss = 0.55641449\n",
      "Iteration 54, loss = 0.55639913\n",
      "Iteration 55, loss = 0.55637900\n",
      "Iteration 56, loss = 0.55646542\n",
      "Iteration 57, loss = 0.55627858\n",
      "Iteration 58, loss = 0.55629524\n",
      "Iteration 59, loss = 0.55627584\n",
      "Iteration 60, loss = 0.55617152\n",
      "Iteration 61, loss = 0.55619359\n",
      "Iteration 62, loss = 0.55615889\n",
      "Iteration 63, loss = 0.55615682\n",
      "Iteration 64, loss = 0.55605947\n",
      "Iteration 65, loss = 0.55610533\n",
      "Iteration 66, loss = 0.55600448\n",
      "Iteration 67, loss = 0.55615092\n",
      "Iteration 68, loss = 0.55601496\n",
      "Iteration 69, loss = 0.55598951\n",
      "Iteration 70, loss = 0.55600123\n",
      "Iteration 71, loss = 0.55590220\n",
      "Training loss did not improve more than tol=0.000100 for 10 consecutive epochs. Stopping.\n"
     ]
    },
    {
     "data": {
      "text/plain": [
       "MLPClassifier(activation='relu', alpha=0.0001, batch_size=64, beta_1=0.9,\n",
       "       beta_2=0.999, early_stopping=False, epsilon=1e-08,\n",
       "       hidden_layer_sizes=64, learning_rate='constant',\n",
       "       learning_rate_init=0.001, max_iter=500, momentum=0.9,\n",
       "       n_iter_no_change=10, nesterovs_momentum=True, power_t=0.5,\n",
       "       random_state=42, shuffle=True, solver='sgd', tol=0.0001,\n",
       "       validation_fraction=0.1, verbose=10, warm_start=False)"
      ]
     },
     "execution_count": 5,
     "metadata": {},
     "output_type": "execute_result"
    }
   ],
   "source": [
    "clf.fit(X_train, y_train)\n"
   ]
  },
  {
   "cell_type": "markdown",
   "metadata": {},
   "source": [
    "### Teste"
   ]
  },
  {
   "cell_type": "code",
   "execution_count": 6,
   "metadata": {},
   "outputs": [
    {
     "name": "stdout",
     "output_type": "stream",
     "text": [
      "Acuracia:  0.7242820150659134\n"
     ]
    }
   ],
   "source": [
    "y_pred = clf.predict(X_test)    \n",
    "\n",
    "print(\"Acuracia: \", accuracy_score(y_test, y_pred))"
   ]
  },
  {
   "cell_type": "markdown",
   "metadata": {},
   "source": [
    "### Teste utilizando CV"
   ]
  },
  {
   "cell_type": "code",
   "execution_count": 19,
   "metadata": {},
   "outputs": [
    {
     "name": "stderr",
     "output_type": "stream",
     "text": [
      "/usr/local/lib/python3.6/dist-packages/sklearn/neural_network/multilayer_perceptron.py:916: DataConversionWarning: A column-vector y was passed when a 1d array was expected. Please change the shape of y to (n_samples, ), for example using ravel().\n",
      "  y = column_or_1d(y, warn=True)\n",
      "/usr/local/lib/python3.6/dist-packages/sklearn/neural_network/multilayer_perceptron.py:916: DataConversionWarning: A column-vector y was passed when a 1d array was expected. Please change the shape of y to (n_samples, ), for example using ravel().\n",
      "  y = column_or_1d(y, warn=True)\n",
      "/usr/local/lib/python3.6/dist-packages/sklearn/neural_network/multilayer_perceptron.py:916: DataConversionWarning: A column-vector y was passed when a 1d array was expected. Please change the shape of y to (n_samples, ), for example using ravel().\n",
      "  y = column_or_1d(y, warn=True)\n",
      "/usr/local/lib/python3.6/dist-packages/sklearn/neural_network/multilayer_perceptron.py:916: DataConversionWarning: A column-vector y was passed when a 1d array was expected. Please change the shape of y to (n_samples, ), for example using ravel().\n",
      "  y = column_or_1d(y, warn=True)\n",
      "/usr/local/lib/python3.6/dist-packages/sklearn/neural_network/multilayer_perceptron.py:916: DataConversionWarning: A column-vector y was passed when a 1d array was expected. Please change the shape of y to (n_samples, ), for example using ravel().\n",
      "  y = column_or_1d(y, warn=True)\n",
      "/usr/local/lib/python3.6/dist-packages/sklearn/neural_network/multilayer_perceptron.py:916: DataConversionWarning: A column-vector y was passed when a 1d array was expected. Please change the shape of y to (n_samples, ), for example using ravel().\n",
      "  y = column_or_1d(y, warn=True)\n",
      "/usr/local/lib/python3.6/dist-packages/sklearn/neural_network/multilayer_perceptron.py:916: DataConversionWarning: A column-vector y was passed when a 1d array was expected. Please change the shape of y to (n_samples, ), for example using ravel().\n",
      "  y = column_or_1d(y, warn=True)\n",
      "/usr/local/lib/python3.6/dist-packages/sklearn/neural_network/multilayer_perceptron.py:916: DataConversionWarning: A column-vector y was passed when a 1d array was expected. Please change the shape of y to (n_samples, ), for example using ravel().\n",
      "  y = column_or_1d(y, warn=True)\n",
      "/usr/local/lib/python3.6/dist-packages/sklearn/neural_network/multilayer_perceptron.py:916: DataConversionWarning: A column-vector y was passed when a 1d array was expected. Please change the shape of y to (n_samples, ), for example using ravel().\n",
      "  y = column_or_1d(y, warn=True)\n",
      "/usr/local/lib/python3.6/dist-packages/sklearn/neural_network/multilayer_perceptron.py:916: DataConversionWarning: A column-vector y was passed when a 1d array was expected. Please change the shape of y to (n_samples, ), for example using ravel().\n",
      "  y = column_or_1d(y, warn=True)\n"
     ]
    }
   ],
   "source": [
    "# Criando KNN\n",
    "clf  = clf = MLPClassifier(hidden_layer_sizes=(64), max_iter=500, alpha=0.0001,\n",
    "                     solver='sgd', batch_size=64, random_state=42)\n",
    "\n",
    "# CV 5\n",
    "cv_scores = cross_val_score(clf, X, y, cv=10)"
   ]
  },
  {
   "cell_type": "code",
   "execution_count": 22,
   "metadata": {},
   "outputs": [
    {
     "name": "stdout",
     "output_type": "stream",
     "text": [
      "Cross-Validation Scores:\n",
      "0  -  0.7328155339805825\n",
      "1  -  0.7132038834951456\n",
      "2  -  0.7178640776699029\n",
      "3  -  0.728685181588658\n",
      "4  -  0.7189745581666342\n",
      "5  -  0.7315983686152651\n",
      "6  -  0.7230530200038843\n",
      "7  -  0.7142579642579643\n",
      "8  -  0.7222222222222222\n",
      "9  -  0.7204739704739704\n"
     ]
    }
   ],
   "source": [
    "print(\"Cross-Validation Scores:\")\n",
    "for idx, score in enumerate(cv_scores):\n",
    "    print(idx, \" - \", score)"
   ]
  },
  {
   "cell_type": "code",
   "execution_count": null,
   "metadata": {},
   "outputs": [],
   "source": []
  }
 ],
 "metadata": {
  "kernelspec": {
   "display_name": "Python 3",
   "language": "python",
   "name": "python3"
  },
  "language_info": {
   "codemirror_mode": {
    "name": "ipython",
    "version": 3
   },
   "file_extension": ".py",
   "mimetype": "text/x-python",
   "name": "python",
   "nbconvert_exporter": "python",
   "pygments_lexer": "ipython3",
   "version": "3.6.7"
  }
 },
 "nbformat": 4,
 "nbformat_minor": 2
}
