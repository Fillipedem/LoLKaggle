{
 "cells": [
  {
   "cell_type": "markdown",
   "metadata": {},
   "source": [
    "### Neural Networks"
   ]
  },
  {
   "cell_type": "code",
   "execution_count": 11,
   "metadata": {},
   "outputs": [],
   "source": [
    "import numpy as np\n",
    "import pandas as pd\n",
    "\n",
    "# sklearn\n",
    "from sklearn.model_selection import train_test_split\n",
    "from sklearn.neural_network import MLPClassifier\n",
    "from sklearn.svm import SVC\n",
    "\n",
    "# metrics\n",
    "from sklearn.metrics import accuracy_score, auc, confusion_matrix\n",
    "from sklearn.model_selection import cross_val_score\n",
    "\n",
    "# Para plotar a curva Roc\n",
    "import scikitplot as skplt\n",
    "import matplotlib.pyplot as plt"
   ]
  },
  {
   "cell_type": "markdown",
   "metadata": {},
   "source": [
    "### Lendo a base de dados"
   ]
  },
  {
   "cell_type": "code",
   "execution_count": 2,
   "metadata": {},
   "outputs": [],
   "source": [
    "X = pd.read_csv(\"./data/preprocessamento/X_normalized.csv\", index_col=0)\n",
    "y = pd.read_csv(\"./data/preprocessamento/y.csv\", header=None, index_col=0)"
   ]
  },
  {
   "cell_type": "markdown",
   "metadata": {},
   "source": [
    "### CV"
   ]
  },
  {
   "cell_type": "code",
   "execution_count": null,
   "metadata": {},
   "outputs": [],
   "source": [
    "layers_size = [(64,), (32,), (128), (32,16)]\n",
    "activations = ['tanh', 'logistic', 'relu']"
   ]
  },
  {
   "cell_type": "code",
   "execution_count": null,
   "metadata": {},
   "outputs": [],
   "source": [
    "for l in layers_size:\n",
    "    for a in activations:\n",
    "        clf = MLPClassifier(hidden_layer_sizes=(64), max_iter=500, alpha=0.0001,\n",
    "                             activation=a, solver='sgd', batch_size=64, \n",
    "                            random_state=42)\n",
    "\n",
    "        cv_scores = cross_val_score(clf, X, y[1], cv=10)\n",
    "        print(\"Layer: \", l, \" Activation: \", a)\n",
    "        print(cv_scores)"
   ]
  },
  {
   "cell_type": "markdown",
   "metadata": {},
   "source": [
    "### Modelo"
   ]
  },
  {
   "cell_type": "code",
   "execution_count": 6,
   "metadata": {},
   "outputs": [],
   "source": [
    "# Divindo treino/teste\n",
    "X_train, X_test, y_train, y_test = train_test_split(\n",
    "    X, y, test_size=0.33, random_state=42)"
   ]
  },
  {
   "cell_type": "code",
   "execution_count": 7,
   "metadata": {
    "scrolled": true
   },
   "outputs": [],
   "source": [
    "clf = MLPClassifier(hidden_layer_sizes=(32), max_iter=500, alpha=0.0001, \n",
    "                    activation=\"tanh\", early_stopping=True,\n",
    "                     solver='adam', batch_size=128, verbose=10)"
   ]
  },
  {
   "cell_type": "markdown",
   "metadata": {},
   "source": [
    "### Treino"
   ]
  },
  {
   "cell_type": "code",
   "execution_count": 8,
   "metadata": {
    "scrolled": true
   },
   "outputs": [
    {
     "name": "stderr",
     "output_type": "stream",
     "text": [
      "/home/demenezes/.local/lib/python3.6/site-packages/sklearn/neural_network/multilayer_perceptron.py:921: DataConversionWarning: A column-vector y was passed when a 1d array was expected. Please change the shape of y to (n_samples, ), for example using ravel().\n",
      "  y = column_or_1d(y, warn=True)\n"
     ]
    },
    {
     "name": "stdout",
     "output_type": "stream",
     "text": [
      "Iteration 1, loss = 0.57574480\n",
      "Validation score: 0.715942\n",
      "Iteration 2, loss = 0.55943749\n",
      "Validation score: 0.716232\n",
      "Iteration 3, loss = 0.55836995\n",
      "Validation score: 0.716522\n",
      "Iteration 4, loss = 0.55840789\n",
      "Validation score: 0.715942\n",
      "Iteration 5, loss = 0.55808431\n",
      "Validation score: 0.716232\n",
      "Iteration 6, loss = 0.55824810\n",
      "Validation score: 0.712754\n",
      "Iteration 7, loss = 0.55828200\n",
      "Validation score: 0.712464\n",
      "Iteration 8, loss = 0.55780786\n",
      "Validation score: 0.711884\n",
      "Iteration 9, loss = 0.55734799\n",
      "Validation score: 0.717971\n",
      "Iteration 10, loss = 0.55784432\n",
      "Validation score: 0.714203\n",
      "Iteration 11, loss = 0.55749189\n",
      "Validation score: 0.716522\n",
      "Iteration 12, loss = 0.55710431\n",
      "Validation score: 0.712754\n",
      "Iteration 13, loss = 0.55705690\n",
      "Validation score: 0.716812\n",
      "Iteration 14, loss = 0.55697123\n",
      "Validation score: 0.714493\n",
      "Iteration 15, loss = 0.55718283\n",
      "Validation score: 0.715652\n",
      "Iteration 16, loss = 0.55709416\n",
      "Validation score: 0.716232\n",
      "Iteration 17, loss = 0.55666079\n",
      "Validation score: 0.715362\n",
      "Iteration 18, loss = 0.55670494\n",
      "Validation score: 0.716812\n",
      "Iteration 19, loss = 0.55665206\n",
      "Validation score: 0.713623\n",
      "Iteration 20, loss = 0.55642200\n",
      "Validation score: 0.716232\n",
      "Validation score did not improve more than tol=0.000100 for 10 consecutive epochs. Stopping.\n"
     ]
    },
    {
     "data": {
      "text/plain": [
       "MLPClassifier(activation='tanh', alpha=0.0001, batch_size=128, beta_1=0.9,\n",
       "              beta_2=0.999, early_stopping=True, epsilon=1e-08,\n",
       "              hidden_layer_sizes=32, learning_rate='constant',\n",
       "              learning_rate_init=0.001, max_iter=500, momentum=0.9,\n",
       "              n_iter_no_change=10, nesterovs_momentum=True, power_t=0.5,\n",
       "              random_state=None, shuffle=True, solver='adam', tol=0.0001,\n",
       "              validation_fraction=0.1, verbose=10, warm_start=False)"
      ]
     },
     "execution_count": 8,
     "metadata": {},
     "output_type": "execute_result"
    }
   ],
   "source": [
    "clf.fit(X_train, y_train)\n"
   ]
  },
  {
   "cell_type": "markdown",
   "metadata": {},
   "source": [
    "### Teste"
   ]
  },
  {
   "cell_type": "code",
   "execution_count": 13,
   "metadata": {
    "scrolled": true
   },
   "outputs": [
    {
     "name": "stdout",
     "output_type": "stream",
     "text": [
      "Acuracia:  0.725635593220339\n",
      "Matriz de confusão: \n",
      "[[6365 2253]\n",
      " [2409 5965]]\n"
     ]
    }
   ],
   "source": [
    "y_pred = clf.predict(X_test)\n",
    "y_prob =  clf.predict_proba(X_test)\n",
    "\n",
    "print(\"Acuracia: \", accuracy_score(y_test, y_pred))\n",
    "print(\"Matriz de confusão: \")\n",
    "print(confusion_matrix(y_test, y_pred))"
   ]
  },
  {
   "cell_type": "code",
   "execution_count": 10,
   "metadata": {},
   "outputs": [
    {
     "name": "stderr",
     "output_type": "stream",
     "text": [
      "/home/demenezes/.local/lib/python3.6/site-packages/sklearn/utils/deprecation.py:85: DeprecationWarning: Function plot_roc_curve is deprecated; This will be removed in v0.5.0. Please use scikitplot.metrics.plot_roc instead.\n",
      "  warnings.warn(msg, category=DeprecationWarning)\n"
     ]
    },
    {
     "data": {
      "image/png": "[encoded data removed]",
      "text/plain": [
       "<Figure size 432x288 with 1 Axes>"
      ]
     },
     "metadata": {
      "needs_background": "light"
     },
     "output_type": "display_data"
    }
   ],
   "source": [
    "skplt.metrics.plot_roc_curve(y_test, y_prob)\n",
    "plt.show()"
   ]
  }
 ],
 "metadata": {
  "kernelspec": {
   "display_name": "Python 3",
   "language": "python",
   "name": "python3"
  },
  "language_info": {
   "codemirror_mode": {
    "name": "ipython",
    "version": 3
   },
   "file_extension": ".py",
   "mimetype": "text/x-python",
   "name": "python",
   "nbconvert_exporter": "python",
   "pygments_lexer": "ipython3",
   "version": "3.6.7"
  }
 },
 "nbformat": 4,
 "nbformat_minor": 2
}
