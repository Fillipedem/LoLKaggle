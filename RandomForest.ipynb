{
 "cells": [
  {
   "cell_type": "markdown",
   "metadata": {},
   "source": [
    "### Random Forest Classifier"
   ]
  },
  {
   "cell_type": "code",
   "execution_count": 8,
   "metadata": {},
   "outputs": [],
   "source": [
    "import numpy as np\n",
    "import pandas as pd\n",
    "\n",
    "# sklearn\n",
    "from sklearn.model_selection import train_test_split\n",
    "from sklearn.ensemble import RandomForestClassifier\n",
    "\n",
    "# metricas\n",
    "from sklearn.metrics import accuracy_score, confusion_matrix\n",
    "from sklearn.model_selection import cross_val_score\n",
    "\n",
    "\n",
    "# Para plotar a curva Roc\n",
    "import scikitplot as skplt\n",
    "import matplotlib.pyplot as plt"
   ]
  },
  {
   "cell_type": "markdown",
   "metadata": {},
   "source": [
    "### Lendo a base de dados"
   ]
  },
  {
   "cell_type": "code",
   "execution_count": 2,
   "metadata": {},
   "outputs": [],
   "source": [
    "X = pd.read_csv(\"./data/preprocessamento/X.csv\", index_col=0)\n",
    "y = pd.read_csv(\"./data/preprocessamento/y.csv\", header=None, index_col=0)"
   ]
  },
  {
   "cell_type": "code",
   "execution_count": null,
   "metadata": {},
   "outputs": [],
   "source": [
    "# Divindo treino/teste\n",
    "X_train, X_test, y_train, y_test = train_test_split(\n",
    "    X, y, test_size=0.33, random_state=42)"
   ]
  },
  {
   "cell_type": "markdown",
   "metadata": {},
   "source": [
    "### CV"
   ]
  },
  {
   "cell_type": "code",
   "execution_count": 4,
   "metadata": {},
   "outputs": [
    {
     "name": "stdout",
     "output_type": "stream",
     "text": [
      "{'n_estimators': 10, 'criterion': 'gini', 'min_samples_split': 2}\n",
      "[0.69708738 0.67864078 0.68466019 0.70033016 0.67954943 0.70071859\n",
      " 0.68323946 0.68376068 0.68298368 0.68900544]\n",
      "{'n_estimators': 50, 'criterion': 'gini', 'min_samples_split': 2}\n",
      "[0.71902913 0.6984466  0.7038835  0.71295397 0.70207807 0.70984657\n",
      " 0.69838804 0.6981352  0.6969697  0.70376845]\n",
      "{'n_estimators': 100, 'criterion': 'gini', 'min_samples_split': 2}\n",
      "[0.72097087 0.6984466  0.70524272 0.71392503 0.70168965 0.71275976\n",
      " 0.70382599 0.70066045 0.70765346 0.7000777 ]\n",
      "{'n_estimators': 50, 'criterion': 'gini', 'min_samples_split': 5}\n",
      "[0.72737864 0.70893204 0.71417476 0.71780928 0.70906972 0.71625558\n",
      " 0.71140027 0.70959596 0.71037296 0.70532246]\n",
      "{'n_estimators': 50, 'criterion': 'gini', 'min_samples_split': 10}\n",
      "[0.72601942 0.71572816 0.71398058 0.72130511 0.70965236 0.71722665\n",
      " 0.70984657 0.70843046 0.71794872 0.71076146]\n",
      "{'n_estimators': 50, 'criterion': 'gini', 'min_samples_split': 30}\n",
      "[0.72757282 0.71320388 0.71553398 0.72499514 0.7164498  0.72285881\n",
      " 0.71897456 0.71173271 0.72086247 0.71445221]\n",
      "{'n_estimators': 100, 'criterion': 'gini', 'min_samples_split': 5}\n",
      "[0.7238835  0.70796117 0.71165049 0.71819771 0.71081763 0.7180035\n",
      " 0.70906972 0.70512821 0.71484071 0.71037296]\n",
      "{'n_estimators': 100, 'criterion': 'gini', 'min_samples_split': 10}\n",
      "[0.72679612 0.71456311 0.71320388 0.71994562 0.71431346 0.71897456\n",
      " 0.7117887  0.71445221 0.72105672 0.71076146]\n",
      "{'n_estimators': 100, 'criterion': 'gini', 'min_samples_split': 30}\n",
      "[0.72873786 0.71223301 0.7184466  0.72518936 0.71780928 0.72577199\n",
      " 0.71431346 0.71270396 0.72008547 0.71853147]\n",
      "{'n_estimators': 100, 'criterion': 'entropy', 'min_samples_split': 10}\n",
      "[0.72873786 0.71281553 0.71902913 0.72538357 0.71198291 0.71761507\n",
      " 0.71373082 0.71173271 0.71814297 0.71095571]\n",
      "{'n_estimators': 50, 'criterion': 'entropy', 'min_samples_split': 10}\n",
      "[0.72621359 0.71029126 0.71067961 0.71916877 0.71062342 0.7195572\n",
      " 0.70965236 0.71192696 0.71328671 0.71173271]\n"
     ]
    }
   ],
   "source": [
    "param = [{'n_estimators': 10, 'criterion': 'gini', 'min_samples_split': 2},\n",
    "        {'n_estimators': 50, 'criterion': 'gini', 'min_samples_split': 2},\n",
    "        {'n_estimators': 100, 'criterion': 'gini', 'min_samples_split': 2},\n",
    "        {'n_estimators': 50, 'criterion': 'gini', 'min_samples_split': 5},\n",
    "        {'n_estimators': 50, 'criterion': 'gini', 'min_samples_split': 10},\n",
    "        {'n_estimators': 50, 'criterion': 'gini', 'min_samples_split': 30},\n",
    "        {'n_estimators': 100, 'criterion': 'gini', 'min_samples_split': 5},\n",
    "        {'n_estimators': 100, 'criterion': 'gini', 'min_samples_split': 10},\n",
    "        {'n_estimators': 100, 'criterion': 'gini', 'min_samples_split': 30},\n",
    "        {'n_estimators': 100, 'criterion': 'entropy', 'min_samples_split': 10},\n",
    "        {'n_estimators': 50, 'criterion': 'entropy', 'min_samples_split': 10}]\n",
    "\n",
    "\n",
    "for p in param:\n",
    "    clf = RandomForestClassifier(**p)\n",
    "    cv_scores = cross_val_score(clf, X, y[1], cv=10)\n",
    "    \n",
    "    print(p)\n",
    "    print(cv_scores)"
   ]
  },
  {
   "cell_type": "markdown",
   "metadata": {},
   "source": [
    "### Treino com melhor classificador"
   ]
  },
  {
   "cell_type": "code",
   "execution_count": 5,
   "metadata": {},
   "outputs": [],
   "source": [
    "# Divindo treino/teste\n",
    "X_train, X_test, y_train, y_test = train_test_split(\n",
    "    X, y, test_size=0.33, random_state=42)"
   ]
  },
  {
   "cell_type": "code",
   "execution_count": 7,
   "metadata": {},
   "outputs": [
    {
     "name": "stderr",
     "output_type": "stream",
     "text": [
      "/home/demenezes/.local/lib/python3.6/site-packages/ipykernel_launcher.py:3: DataConversionWarning: A column-vector y was passed when a 1d array was expected. Please change the shape of y to (n_samples,), for example using ravel().\n",
      "  This is separate from the ipykernel package so we can avoid doing imports until\n"
     ]
    },
    {
     "data": {
      "text/plain": [
       "RandomForestClassifier(bootstrap=True, class_weight=None, criterion='gini',\n",
       "                       max_depth=None, max_features='auto', max_leaf_nodes=None,\n",
       "                       min_impurity_decrease=0.0, min_impurity_split=None,\n",
       "                       min_samples_leaf=1, min_samples_split=30,\n",
       "                       min_weight_fraction_leaf=0.0, n_estimators=100,\n",
       "                       n_jobs=None, oob_score=False, random_state=None,\n",
       "                       verbose=0, warm_start=False)"
      ]
     },
     "execution_count": 7,
     "metadata": {},
     "output_type": "execute_result"
    }
   ],
   "source": [
    "# Melhor parametro\n",
    "clf = RandomForestClassifier(n_estimators=100, criterion='gini', min_samples_split=30)\n",
    "\n",
    "clf.fit(X_train, y_train)"
   ]
  },
  {
   "cell_type": "markdown",
   "metadata": {},
   "source": [
    "### Resultados na base de teste"
   ]
  },
  {
   "cell_type": "code",
   "execution_count": 9,
   "metadata": {},
   "outputs": [
    {
     "name": "stdout",
     "output_type": "stream",
     "text": [
      "Acuracia:  0.7223399246704332\n",
      "Matriz de confusão: \n",
      "[[6347 2271]\n",
      " [2447 5927]]\n"
     ]
    },
    {
     "name": "stderr",
     "output_type": "stream",
     "text": [
      "/home/demenezes/.local/lib/python3.6/site-packages/sklearn/utils/deprecation.py:85: DeprecationWarning: Function plot_roc_curve is deprecated; This will be removed in v0.5.0. Please use scikitplot.metrics.plot_roc instead.\n",
      "  warnings.warn(msg, category=DeprecationWarning)\n"
     ]
    },
    {
     "data": {
      "image/png": "[encoded data removed]",
      "text/plain": [
       "<Figure size 432x288 with 1 Axes>"
      ]
     },
     "metadata": {
      "needs_background": "light"
     },
     "output_type": "display_data"
    }
   ],
   "source": [
    "# Acuracia na base de teste\n",
    "y_pred = clf.predict(X_test)\n",
    "y_prob =  clf.predict_proba(X_test)\n",
    "\n",
    "print(\"Acuracia: \", accuracy_score(y_test, y_pred))\n",
    "print(\"Matriz de confusão: \")\n",
    "print(confusion_matrix(y_test, y_pred))\n",
    "\n",
    "# Curva Roc\n",
    "skplt.metrics.plot_roc_curve(y_test, y_prob)\n",
    "plt.show()"
   ]
  },
  {
   "cell_type": "code",
   "execution_count": null,
   "metadata": {},
   "outputs": [],
   "source": []
  }
 ],
 "metadata": {
  "kernelspec": {
   "display_name": "Python 3",
   "language": "python",
   "name": "python3"
  },
  "language_info": {
   "codemirror_mode": {
    "name": "ipython",
    "version": 3
   },
   "file_extension": ".py",
   "mimetype": "text/x-python",
   "name": "python",
   "nbconvert_exporter": "python",
   "pygments_lexer": "ipython3",
   "version": "3.6.7"
  }
 },
 "nbformat": 4,
 "nbformat_minor": 2
}
